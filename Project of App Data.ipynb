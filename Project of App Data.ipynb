{
 "cells": [
  {
   "cell_type": "code",
   "execution_count": 1,
   "metadata": {},
   "outputs": [],
   "source": [
    "import os\n",
    "import tweepy as tw\n",
    "import pandas as pd\n",
    "import emoji\n",
    "import itertools"
   ]
  },
  {
   "cell_type": "code",
   "execution_count": 2,
   "metadata": {},
   "outputs": [],
   "source": [
    "#My key\n",
    "consumer_key= 'pmobXDMHYCDe3ziI7jfrv9MiP'\n",
    "consumer_secret='4CsLBydXMpjTtI0mdEeEdKG0giGUrPezAu202hdB7hJQ75LODt'\n",
    "access_token= '1171284483049320448-X681DzubAI8E17GY13xeeNLvPMloJX' \n",
    "access_token_secret= 'h97bjtMWF2vRTbYjD7I1zEXWjpgkXMGSctKTACmCzaWQk'"
   ]
  },
  {
   "cell_type": "code",
   "execution_count": 3,
   "metadata": {},
   "outputs": [],
   "source": [
    "auth = tw.OAuthHandler(consumer_key, consumer_secret)\n",
    "auth.set_access_token(access_token, access_token_secret)\n",
    "api = tw.API(auth, wait_on_rate_limit=True)"
   ]
  },
  {
   "cell_type": "code",
   "execution_count": 4,
   "metadata": {},
   "outputs": [],
   "source": [
    "MQ_tweets = tw.Cursor(api.search,q = \"Macquarie University -filter:retweets\", lang = \"en\").items(100)\n",
    "UNSW_tweets = tw.Cursor(api.search,q = \"UNSW -filter:retweets\" or \"\", lang = \"en\").items(100)\n"
   ]
  },
  {
   "cell_type": "code",
   "execution_count": 5,
   "metadata": {},
   "outputs": [],
   "source": [
    "MQ = [[x.text, x.user.screen_name] for x in MQ_tweets]\n",
    "MQDF = pd.DataFrame(data=MQ, \n",
    "                    columns=[\"tweet\", \"username\"])\n",
    "\n",
    "UNSW = [[x.text, x.user.screen_name] for x in UNSW_tweets]\n",
    "UNSWDF = pd.DataFrame(data=UNSW, \n",
    "                    columns=[\"tweet\", \"username\"])"
   ]
  },
  {
   "cell_type": "code",
   "execution_count": 6,
   "metadata": {},
   "outputs": [
    {
     "data": {
      "text/html": [
       "<div>\n",
       "<style scoped>\n",
       "    .dataframe tbody tr th:only-of-type {\n",
       "        vertical-align: middle;\n",
       "    }\n",
       "\n",
       "    .dataframe tbody tr th {\n",
       "        vertical-align: top;\n",
       "    }\n",
       "\n",
       "    .dataframe thead th {\n",
       "        text-align: right;\n",
       "    }\n",
       "</style>\n",
       "<table border=\"1\" class=\"dataframe\">\n",
       "  <thead>\n",
       "    <tr style=\"text-align: right;\">\n",
       "      <th></th>\n",
       "      <th>tweet</th>\n",
       "      <th>username</th>\n",
       "    </tr>\n",
       "  </thead>\n",
       "  <tbody>\n",
       "    <tr>\n",
       "      <th>0</th>\n",
       "      <td>Five days visiting Macquarie University: Catch...</td>\n",
       "      <td>timminglab</td>\n",
       "    </tr>\n",
       "    <tr>\n",
       "      <th>1</th>\n",
       "      <td>#NoJobCutsMQ #IstandwithMQstaff #TimetoTalkToU...</td>\n",
       "      <td>CateyR</td>\n",
       "    </tr>\n",
       "    <tr>\n",
       "      <th>2</th>\n",
       "      <td>'Macquarie university announced it would disso...</td>\n",
       "      <td>AmyThunig</td>\n",
       "    </tr>\n",
       "    <tr>\n",
       "      <th>3</th>\n",
       "      <td>Recently returned from a #cybersecurity startu...</td>\n",
       "      <td>AmlecHouse</td>\n",
       "    </tr>\n",
       "    <tr>\n",
       "      <th>4</th>\n",
       "      <td>IN THE NEWS | Veteran chief information office...</td>\n",
       "      <td>SynergyJobsAu</td>\n",
       "    </tr>\n",
       "  </tbody>\n",
       "</table>\n",
       "</div>"
      ],
      "text/plain": [
       "                                               tweet       username\n",
       "0  Five days visiting Macquarie University: Catch...     timminglab\n",
       "1  #NoJobCutsMQ #IstandwithMQstaff #TimetoTalkToU...         CateyR\n",
       "2  'Macquarie university announced it would disso...      AmyThunig\n",
       "3  Recently returned from a #cybersecurity startu...     AmlecHouse\n",
       "4  IN THE NEWS | Veteran chief information office...  SynergyJobsAu"
      ]
     },
     "execution_count": 6,
     "metadata": {},
     "output_type": "execute_result"
    }
   ],
   "source": [
    "MQDF.head()"
   ]
  },
  {
   "cell_type": "code",
   "execution_count": 7,
   "metadata": {},
   "outputs": [
    {
     "data": {
      "text/html": [
       "<div>\n",
       "<style scoped>\n",
       "    .dataframe tbody tr th:only-of-type {\n",
       "        vertical-align: middle;\n",
       "    }\n",
       "\n",
       "    .dataframe tbody tr th {\n",
       "        vertical-align: top;\n",
       "    }\n",
       "\n",
       "    .dataframe thead th {\n",
       "        text-align: right;\n",
       "    }\n",
       "</style>\n",
       "<table border=\"1\" class=\"dataframe\">\n",
       "  <thead>\n",
       "    <tr style=\"text-align: right;\">\n",
       "      <th></th>\n",
       "      <th>tweet</th>\n",
       "      <th>username</th>\n",
       "    </tr>\n",
       "  </thead>\n",
       "  <tbody>\n",
       "    <tr>\n",
       "      <th>0</th>\n",
       "      <td>@PremCricketNSW Rd 4 Day 1v @sutherlanddcc \\n1...</td>\n",
       "      <td>UNSW_Cricket</td>\n",
       "    </tr>\n",
       "    <tr>\n",
       "      <th>1</th>\n",
       "      <td>Interested in phylogenetics @Sydney_Uni @UNSW ...</td>\n",
       "      <td>AusBiocommons</td>\n",
       "    </tr>\n",
       "    <tr>\n",
       "      <th>2</th>\n",
       "      <td>“I think that it’s important to encourage Indi...</td>\n",
       "      <td>UNSWPVCI</td>\n",
       "    </tr>\n",
       "    <tr>\n",
       "      <th>3</th>\n",
       "      <td>Applications close 11pm, this Wednesday 6 Nove...</td>\n",
       "      <td>KirbyInstitute</td>\n",
       "    </tr>\n",
       "    <tr>\n",
       "      <th>4</th>\n",
       "      <td>Meet the Professors seminar today at 3.30pm!\\n...</td>\n",
       "      <td>unswbees</td>\n",
       "    </tr>\n",
       "  </tbody>\n",
       "</table>\n",
       "</div>"
      ],
      "text/plain": [
       "                                               tweet        username\n",
       "0  @PremCricketNSW Rd 4 Day 1v @sutherlanddcc \\n1...    UNSW_Cricket\n",
       "1  Interested in phylogenetics @Sydney_Uni @UNSW ...   AusBiocommons\n",
       "2  “I think that it’s important to encourage Indi...        UNSWPVCI\n",
       "3  Applications close 11pm, this Wednesday 6 Nove...  KirbyInstitute\n",
       "4  Meet the Professors seminar today at 3.30pm!\\n...        unswbees"
      ]
     },
     "execution_count": 7,
     "metadata": {},
     "output_type": "execute_result"
    }
   ],
   "source": [
    "UNSWDF.head()"
   ]
  },
  {
   "cell_type": "code",
   "execution_count": 8,
   "metadata": {},
   "outputs": [
    {
     "data": {
      "text/plain": [
       "'!\"#$%&\\'()*+,-./:;<=>?@[\\\\]^_`{|}~'"
      ]
     },
     "execution_count": 8,
     "metadata": {},
     "output_type": "execute_result"
    }
   ],
   "source": [
    "#https://www.kaggle.com/ragnisah/text-data-cleaning-tweets-analysis\n",
    "import string\n",
    "string.punctuation"
   ]
  },
  {
   "cell_type": "code",
   "execution_count": 9,
   "metadata": {},
   "outputs": [],
   "source": [
    "import re\n",
    "def remove_punct(text):\n",
    "    text = ''.join(''.join(s)[:2] for _, s in itertools.groupby(text))\n",
    "    text = emoji.demojize(text)\n",
    "    text  = \"\".join([char for char in text if char not in string.punctuation])\n",
    "    text = re.sub('[0-9]+', '', text)\n",
    "    text = re.sub(\"(\\w+:\\/\\/\\S+)\", \" \", text)\n",
    "    text = re.sub(\"[\\.\\,\\!\\?\\:\\;\\-\\=]\", \" \", text)\n",
    "    return text\n",
    "\n",
    "MQDF['Clean Tweets'] = MQDF['tweet'].apply(lambda x: remove_punct(x))\n",
    "UNSWDF['Clean Tweets'] = UNSWDF['tweet'].apply(lambda x: remove_punct(x))"
   ]
  },
  {
   "cell_type": "code",
   "execution_count": 10,
   "metadata": {},
   "outputs": [
    {
     "data": {
      "text/html": [
       "<div>\n",
       "<style scoped>\n",
       "    .dataframe tbody tr th:only-of-type {\n",
       "        vertical-align: middle;\n",
       "    }\n",
       "\n",
       "    .dataframe tbody tr th {\n",
       "        vertical-align: top;\n",
       "    }\n",
       "\n",
       "    .dataframe thead th {\n",
       "        text-align: right;\n",
       "    }\n",
       "</style>\n",
       "<table border=\"1\" class=\"dataframe\">\n",
       "  <thead>\n",
       "    <tr style=\"text-align: right;\">\n",
       "      <th></th>\n",
       "      <th>tweet</th>\n",
       "      <th>username</th>\n",
       "      <th>Clean Tweets</th>\n",
       "    </tr>\n",
       "  </thead>\n",
       "  <tbody>\n",
       "    <tr>\n",
       "      <th>0</th>\n",
       "      <td>Five days visiting Macquarie University: Catch...</td>\n",
       "      <td>timminglab</td>\n",
       "      <td>Five days visiting Macquarie University Catch ...</td>\n",
       "    </tr>\n",
       "    <tr>\n",
       "      <th>1</th>\n",
       "      <td>#NoJobCutsMQ #IstandwithMQstaff #TimetoTalkToU...</td>\n",
       "      <td>CateyR</td>\n",
       "      <td>NoJobCutsMQ IstandwithMQstaff TimetoTalkToUsMQ...</td>\n",
       "    </tr>\n",
       "    <tr>\n",
       "      <th>2</th>\n",
       "      <td>'Macquarie university announced it would disso...</td>\n",
       "      <td>AmyThunig</td>\n",
       "      <td>Macquarie university announced it would dissol...</td>\n",
       "    </tr>\n",
       "    <tr>\n",
       "      <th>3</th>\n",
       "      <td>Recently returned from a #cybersecurity startu...</td>\n",
       "      <td>AmlecHouse</td>\n",
       "      <td>Recently returned from a cybersecurity startup...</td>\n",
       "    </tr>\n",
       "    <tr>\n",
       "      <th>4</th>\n",
       "      <td>IN THE NEWS | Veteran chief information office...</td>\n",
       "      <td>SynergyJobsAu</td>\n",
       "      <td>IN THE NEWS  Veteran chief information officer...</td>\n",
       "    </tr>\n",
       "  </tbody>\n",
       "</table>\n",
       "</div>"
      ],
      "text/plain": [
       "                                               tweet       username  \\\n",
       "0  Five days visiting Macquarie University: Catch...     timminglab   \n",
       "1  #NoJobCutsMQ #IstandwithMQstaff #TimetoTalkToU...         CateyR   \n",
       "2  'Macquarie university announced it would disso...      AmyThunig   \n",
       "3  Recently returned from a #cybersecurity startu...     AmlecHouse   \n",
       "4  IN THE NEWS | Veteran chief information office...  SynergyJobsAu   \n",
       "\n",
       "                                        Clean Tweets  \n",
       "0  Five days visiting Macquarie University Catch ...  \n",
       "1  NoJobCutsMQ IstandwithMQstaff TimetoTalkToUsMQ...  \n",
       "2  Macquarie university announced it would dissol...  \n",
       "3  Recently returned from a cybersecurity startup...  \n",
       "4  IN THE NEWS  Veteran chief information officer...  "
      ]
     },
     "execution_count": 10,
     "metadata": {},
     "output_type": "execute_result"
    }
   ],
   "source": [
    "MQDF.head()"
   ]
  },
  {
   "cell_type": "code",
   "execution_count": 11,
   "metadata": {},
   "outputs": [
    {
     "data": {
      "text/html": [
       "<div>\n",
       "<style scoped>\n",
       "    .dataframe tbody tr th:only-of-type {\n",
       "        vertical-align: middle;\n",
       "    }\n",
       "\n",
       "    .dataframe tbody tr th {\n",
       "        vertical-align: top;\n",
       "    }\n",
       "\n",
       "    .dataframe thead th {\n",
       "        text-align: right;\n",
       "    }\n",
       "</style>\n",
       "<table border=\"1\" class=\"dataframe\">\n",
       "  <thead>\n",
       "    <tr style=\"text-align: right;\">\n",
       "      <th></th>\n",
       "      <th>tweet</th>\n",
       "      <th>username</th>\n",
       "      <th>Clean Tweets</th>\n",
       "    </tr>\n",
       "  </thead>\n",
       "  <tbody>\n",
       "    <tr>\n",
       "      <th>0</th>\n",
       "      <td>@PremCricketNSW Rd 4 Day 1v @sutherlanddcc \\n1...</td>\n",
       "      <td>UNSW_Cricket</td>\n",
       "      <td>PremCricketNSW Rd  Day v sutherlanddcc \\nsts h...</td>\n",
       "    </tr>\n",
       "    <tr>\n",
       "      <th>1</th>\n",
       "      <td>Interested in phylogenetics @Sydney_Uni @UNSW ...</td>\n",
       "      <td>AusBiocommons</td>\n",
       "      <td>Interested in phylogenetics SydneyUni UNSW USy...</td>\n",
       "    </tr>\n",
       "    <tr>\n",
       "      <th>2</th>\n",
       "      <td>“I think that it’s important to encourage Indi...</td>\n",
       "      <td>UNSWPVCI</td>\n",
       "      <td>“I think that it’s important to encourage Indi...</td>\n",
       "    </tr>\n",
       "    <tr>\n",
       "      <th>3</th>\n",
       "      <td>Applications close 11pm, this Wednesday 6 Nove...</td>\n",
       "      <td>KirbyInstitute</td>\n",
       "      <td>Applications close pm this Wednesday  November...</td>\n",
       "    </tr>\n",
       "    <tr>\n",
       "      <th>4</th>\n",
       "      <td>Meet the Professors seminar today at 3.30pm!\\n...</td>\n",
       "      <td>unswbees</td>\n",
       "      <td>Meet the Professors seminar today at pm\\n\\nUNS...</td>\n",
       "    </tr>\n",
       "  </tbody>\n",
       "</table>\n",
       "</div>"
      ],
      "text/plain": [
       "                                               tweet        username  \\\n",
       "0  @PremCricketNSW Rd 4 Day 1v @sutherlanddcc \\n1...    UNSW_Cricket   \n",
       "1  Interested in phylogenetics @Sydney_Uni @UNSW ...   AusBiocommons   \n",
       "2  “I think that it’s important to encourage Indi...        UNSWPVCI   \n",
       "3  Applications close 11pm, this Wednesday 6 Nove...  KirbyInstitute   \n",
       "4  Meet the Professors seminar today at 3.30pm!\\n...        unswbees   \n",
       "\n",
       "                                        Clean Tweets  \n",
       "0  PremCricketNSW Rd  Day v sutherlanddcc \\nsts h...  \n",
       "1  Interested in phylogenetics SydneyUni UNSW USy...  \n",
       "2  “I think that it’s important to encourage Indi...  \n",
       "3  Applications close pm this Wednesday  November...  \n",
       "4  Meet the Professors seminar today at pm\\n\\nUNS...  "
      ]
     },
     "execution_count": 11,
     "metadata": {},
     "output_type": "execute_result"
    }
   ],
   "source": [
    "UNSWDF.head()"
   ]
  },
  {
   "cell_type": "code",
   "execution_count": 12,
   "metadata": {},
   "outputs": [],
   "source": [
    "MQDF.to_csv(r'C:\\Users\\kyleg\\Documents\\App-Data\\MQ.csv')"
   ]
  },
  {
   "cell_type": "code",
   "execution_count": 13,
   "metadata": {},
   "outputs": [],
   "source": [
    "UNSWDF.to_csv(r'C:\\Users\\kyleg\\Documents\\App-Data\\UNSW.csv')"
   ]
  }
 ],
 "metadata": {
  "kernelspec": {
   "display_name": "Python 3",
   "language": "python",
   "name": "python3"
  },
  "language_info": {
   "codemirror_mode": {
    "name": "ipython",
    "version": 3
   },
   "file_extension": ".py",
   "mimetype": "text/x-python",
   "name": "python",
   "nbconvert_exporter": "python",
   "pygments_lexer": "ipython3",
   "version": "3.7.3"
  }
 },
 "nbformat": 4,
 "nbformat_minor": 2
}
