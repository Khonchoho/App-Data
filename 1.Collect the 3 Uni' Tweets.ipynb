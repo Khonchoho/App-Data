{
 "cells": [
  {
   "cell_type": "code",
   "execution_count": 1,
   "metadata": {},
   "outputs": [],
   "source": [
    "import os\n",
    "import tweepy as tw\n",
    "import pandas as pd"
   ]
  },
  {
   "cell_type": "code",
   "execution_count": 2,
   "metadata": {},
   "outputs": [],
   "source": [
    "#My key\n",
    "consumer_key= 'pmobXDMHYCDe3ziI7jfrv9MiP'\n",
    "consumer_secret='4CsLBydXMpjTtI0mdEeEdKG0giGUrPezAu202hdB7hJQ75LODt'\n",
    "access_token= '1171284483049320448-X681DzubAI8E17GY13xeeNLvPMloJX' \n",
    "access_token_secret= 'h97bjtMWF2vRTbYjD7I1zEXWjpgkXMGSctKTACmCzaWQk'"
   ]
  },
  {
   "cell_type": "code",
   "execution_count": 3,
   "metadata": {},
   "outputs": [],
   "source": [
    "auth = tw.OAuthHandler(consumer_key, consumer_secret)\n",
    "auth.set_access_token(access_token, access_token_secret)\n",
    "api = tw.API(auth, wait_on_rate_limit=True)"
   ]
  },
  {
   "cell_type": "code",
   "execution_count": 4,
   "metadata": {},
   "outputs": [],
   "source": [
    "MQ_tweets = tw.Cursor(api.search,q = \"Macquarie University -filter:retweets\", lang = \"en\").items(100)\n",
    "UNSW_tweets = tw.Cursor(api.search,q = \"UNSW -filter:retweets\" or \"\", lang = \"en\").items(100)\n",
    "USYD_tweets = tw.Cursor(api.search,q = \"The University of Sydney -filter:retweets\" or \"\", lang = \"en\").items(100)"
   ]
  },
  {
   "cell_type": "code",
   "execution_count": 5,
   "metadata": {},
   "outputs": [],
   "source": [
    "MQ = [[x.text, x.user.screen_name] for x in MQ_tweets]\n",
    "MQDF = pd.DataFrame(data=MQ, \n",
    "                    columns=[\"tweet\", \"username\"])\n",
    "\n",
    "UNSW = [[x.text, x.user.screen_name] for x in UNSW_tweets]\n",
    "UNSWDF = pd.DataFrame(data=UNSW, \n",
    "                    columns=[\"tweet\", \"username\"])\n",
    "\n",
    "USYD = [[x.text, x.user.screen_name] for x in USYD_tweets]\n",
    "USYDDF = pd.DataFrame(data=USYD, \n",
    "                    columns=[\"tweet\", \"username\"])"
   ]
  },
  {
   "cell_type": "code",
   "execution_count": 7,
   "metadata": {},
   "outputs": [
    {
     "data": {
      "text/html": [
       "<div>\n",
       "<style scoped>\n",
       "    .dataframe tbody tr th:only-of-type {\n",
       "        vertical-align: middle;\n",
       "    }\n",
       "\n",
       "    .dataframe tbody tr th {\n",
       "        vertical-align: top;\n",
       "    }\n",
       "\n",
       "    .dataframe thead th {\n",
       "        text-align: right;\n",
       "    }\n",
       "</style>\n",
       "<table border=\"1\" class=\"dataframe\">\n",
       "  <thead>\n",
       "    <tr style=\"text-align: right;\">\n",
       "      <th></th>\n",
       "      <th>tweet</th>\n",
       "      <th>username</th>\n",
       "    </tr>\n",
       "  </thead>\n",
       "  <tbody>\n",
       "    <tr>\n",
       "      <th>0</th>\n",
       "      <td>Please sign and share this important petition:...</td>\n",
       "      <td>roblespar</td>\n",
       "    </tr>\n",
       "    <tr>\n",
       "      <th>1</th>\n",
       "      <td>Very concerning reports about the  removal of ...</td>\n",
       "      <td>copyculture</td>\n",
       "    </tr>\n",
       "    <tr>\n",
       "      <th>2</th>\n",
       "      <td>How prepared are paramedics to deal with clima...</td>\n",
       "      <td>RuthTownsendlaw</td>\n",
       "    </tr>\n",
       "    <tr>\n",
       "      <th>3</th>\n",
       "      <td>@ChrisJ999 paramedic building, Charles Sturt U...</td>\n",
       "      <td>RuthTownsendlaw</td>\n",
       "    </tr>\n",
       "    <tr>\n",
       "      <th>4</th>\n",
       "      <td>Macquarie University announces scholarships wo...</td>\n",
       "      <td>indiaedudiary</td>\n",
       "    </tr>\n",
       "  </tbody>\n",
       "</table>\n",
       "</div>"
      ],
      "text/plain": [
       "                                               tweet         username\n",
       "0  Please sign and share this important petition:...        roblespar\n",
       "1  Very concerning reports about the  removal of ...      copyculture\n",
       "2  How prepared are paramedics to deal with clima...  RuthTownsendlaw\n",
       "3  @ChrisJ999 paramedic building, Charles Sturt U...  RuthTownsendlaw\n",
       "4  Macquarie University announces scholarships wo...    indiaedudiary"
      ]
     },
     "execution_count": 7,
     "metadata": {},
     "output_type": "execute_result"
    }
   ],
   "source": [
    "MQDF.head()"
   ]
  },
  {
   "cell_type": "code",
   "execution_count": 8,
   "metadata": {},
   "outputs": [
    {
     "data": {
      "text/plain": [
       "(100, 2)"
      ]
     },
     "execution_count": 8,
     "metadata": {},
     "output_type": "execute_result"
    }
   ],
   "source": [
    "MQDF.shape"
   ]
  },
  {
   "cell_type": "code",
   "execution_count": 10,
   "metadata": {},
   "outputs": [
    {
     "data": {
      "text/html": [
       "<div>\n",
       "<style scoped>\n",
       "    .dataframe tbody tr th:only-of-type {\n",
       "        vertical-align: middle;\n",
       "    }\n",
       "\n",
       "    .dataframe tbody tr th {\n",
       "        vertical-align: top;\n",
       "    }\n",
       "\n",
       "    .dataframe thead th {\n",
       "        text-align: right;\n",
       "    }\n",
       "</style>\n",
       "<table border=\"1\" class=\"dataframe\">\n",
       "  <thead>\n",
       "    <tr style=\"text-align: right;\">\n",
       "      <th></th>\n",
       "      <th>tweet</th>\n",
       "      <th>username</th>\n",
       "    </tr>\n",
       "  </thead>\n",
       "  <tbody>\n",
       "    <tr>\n",
       "      <th>0</th>\n",
       "      <td>“Make friends of all ages. When you have frien...</td>\n",
       "      <td>UNSW</td>\n",
       "    </tr>\n",
       "    <tr>\n",
       "      <th>1</th>\n",
       "      <td>“In Australia, 30% of employers admit they’re ...</td>\n",
       "      <td>UNSW</td>\n",
       "    </tr>\n",
       "    <tr>\n",
       "      <th>2</th>\n",
       "      <td>\"Older is not lesser - the value of a human be...</td>\n",
       "      <td>BetterSydney</td>\n",
       "    </tr>\n",
       "    <tr>\n",
       "      <th>3</th>\n",
       "      <td>“Age is a criterion for diversity.”\\n\\nAshton ...</td>\n",
       "      <td>UNSW</td>\n",
       "    </tr>\n",
       "    <tr>\n",
       "      <th>4</th>\n",
       "      <td>@chappell_louise @_annahush @Janbreck @UNSW_GV...</td>\n",
       "      <td>katrinaellen_zm</td>\n",
       "    </tr>\n",
       "  </tbody>\n",
       "</table>\n",
       "</div>"
      ],
      "text/plain": [
       "                                               tweet         username\n",
       "0  “Make friends of all ages. When you have frien...             UNSW\n",
       "1  “In Australia, 30% of employers admit they’re ...             UNSW\n",
       "2  \"Older is not lesser - the value of a human be...     BetterSydney\n",
       "3  “Age is a criterion for diversity.”\\n\\nAshton ...             UNSW\n",
       "4  @chappell_louise @_annahush @Janbreck @UNSW_GV...  katrinaellen_zm"
      ]
     },
     "execution_count": 10,
     "metadata": {},
     "output_type": "execute_result"
    }
   ],
   "source": [
    "UNSWDF.head()"
   ]
  },
  {
   "cell_type": "code",
   "execution_count": 11,
   "metadata": {},
   "outputs": [
    {
     "data": {
      "text/plain": [
       "(100, 2)"
      ]
     },
     "execution_count": 11,
     "metadata": {},
     "output_type": "execute_result"
    }
   ],
   "source": [
    "UNSWDF.shape"
   ]
  },
  {
   "cell_type": "code",
   "execution_count": 13,
   "metadata": {},
   "outputs": [
    {
     "data": {
      "text/html": [
       "<div>\n",
       "<style scoped>\n",
       "    .dataframe tbody tr th:only-of-type {\n",
       "        vertical-align: middle;\n",
       "    }\n",
       "\n",
       "    .dataframe tbody tr th {\n",
       "        vertical-align: top;\n",
       "    }\n",
       "\n",
       "    .dataframe thead th {\n",
       "        text-align: right;\n",
       "    }\n",
       "</style>\n",
       "<table border=\"1\" class=\"dataframe\">\n",
       "  <thead>\n",
       "    <tr style=\"text-align: right;\">\n",
       "      <th></th>\n",
       "      <th>tweet</th>\n",
       "      <th>username</th>\n",
       "    </tr>\n",
       "  </thead>\n",
       "  <tbody>\n",
       "    <tr>\n",
       "      <th>0</th>\n",
       "      <td>USYD will also conduct a variety of dating act...</td>\n",
       "      <td>usyd_oweek</td>\n",
       "    </tr>\n",
       "    <tr>\n",
       "      <th>1</th>\n",
       "      <td>@aptly_engineerd \"The idea of bringing the eve...</td>\n",
       "      <td>JusDucky27</td>\n",
       "    </tr>\n",
       "    <tr>\n",
       "      <th>2</th>\n",
       "      <td>The University of Sydney's Westmead Applied Re...</td>\n",
       "      <td>AIHealth1</td>\n",
       "    </tr>\n",
       "    <tr>\n",
       "      <th>3</th>\n",
       "      <td>\"The University of Sydney is perhaps Australia...</td>\n",
       "      <td>TDugdak</td>\n",
       "    </tr>\n",
       "    <tr>\n",
       "      <th>4</th>\n",
       "      <td>Martin Raffaele in using a combination of the ...</td>\n",
       "      <td>MartinRaffaele4</td>\n",
       "    </tr>\n",
       "  </tbody>\n",
       "</table>\n",
       "</div>"
      ],
      "text/plain": [
       "                                               tweet         username\n",
       "0  USYD will also conduct a variety of dating act...       usyd_oweek\n",
       "1  @aptly_engineerd \"The idea of bringing the eve...       JusDucky27\n",
       "2  The University of Sydney's Westmead Applied Re...        AIHealth1\n",
       "3  \"The University of Sydney is perhaps Australia...          TDugdak\n",
       "4  Martin Raffaele in using a combination of the ...  MartinRaffaele4"
      ]
     },
     "execution_count": 13,
     "metadata": {},
     "output_type": "execute_result"
    }
   ],
   "source": [
    "USYDDF.head()"
   ]
  },
  {
   "cell_type": "code",
   "execution_count": 14,
   "metadata": {},
   "outputs": [
    {
     "data": {
      "text/plain": [
       "(100, 2)"
      ]
     },
     "execution_count": 14,
     "metadata": {},
     "output_type": "execute_result"
    }
   ],
   "source": [
    "USYDDF.shape"
   ]
  },
  {
   "cell_type": "code",
   "execution_count": null,
   "metadata": {},
   "outputs": [],
   "source": []
  },
  {
   "cell_type": "code",
   "execution_count": null,
   "metadata": {},
   "outputs": [],
   "source": []
  },
  {
   "cell_type": "code",
   "execution_count": 15,
   "metadata": {},
   "outputs": [
    {
     "data": {
      "text/plain": [
       "'!\"#$%&\\'()*+,-./:;<=>?@[\\\\]^_`{|}~'"
      ]
     },
     "execution_count": 15,
     "metadata": {},
     "output_type": "execute_result"
    }
   ],
   "source": [
    "import string\n",
    "string.punctuation"
   ]
  },
  {
   "cell_type": "code",
   "execution_count": 16,
   "metadata": {},
   "outputs": [],
   "source": [
    "import re\n",
    "def remove_punct(text):\n",
    "    text = ''.join(''.join(s)[:2] for _, s in itertools.groupby(text))\n",
    "    text = emoji.demojize(text)\n",
    "    text  = \"\".join([char for char in text if char not in string.punctuation])\n",
    "    text = re.sub('[0-9]+', '', text)\n",
    "    text = re.sub(\"(\\w+:\\/\\/\\S+)\", \" \", text)\n",
    "    text = re.sub(\"[\\.\\,\\!\\?\\:\\;\\-\\=]\", \" \", text)\n",
    "    return text\n",
    "\n",
    "\n",
    "MQDF['Clean Tweets'] = MQDF['tweet'].apply(lambda x: remove_punct(x))\n",
    "UNSWDF['Clean Tweets'] = UNSWDF['tweet'].apply(lambda x: remove_punct(x))\n",
    "USYDDF['Clean Tweets'] = USYDDF['tweet'].apply(lambda x: remove_punct(x))"
   ]
  },
  {
   "cell_type": "code",
   "execution_count": 17,
   "metadata": {},
   "outputs": [
    {
     "data": {
      "text/html": [
       "<div>\n",
       "<style scoped>\n",
       "    .dataframe tbody tr th:only-of-type {\n",
       "        vertical-align: middle;\n",
       "    }\n",
       "\n",
       "    .dataframe tbody tr th {\n",
       "        vertical-align: top;\n",
       "    }\n",
       "\n",
       "    .dataframe thead th {\n",
       "        text-align: right;\n",
       "    }\n",
       "</style>\n",
       "<table border=\"1\" class=\"dataframe\">\n",
       "  <thead>\n",
       "    <tr style=\"text-align: right;\">\n",
       "      <th></th>\n",
       "      <th>tweet</th>\n",
       "      <th>username</th>\n",
       "      <th>Clean Tweets</th>\n",
       "    </tr>\n",
       "  </thead>\n",
       "  <tbody>\n",
       "    <tr>\n",
       "      <th>0</th>\n",
       "      <td>Please sign and share this important petition:...</td>\n",
       "      <td>roblespar</td>\n",
       "      <td>Please sign and share this important petition ...</td>\n",
       "    </tr>\n",
       "    <tr>\n",
       "      <th>1</th>\n",
       "      <td>Very concerning reports about the  removal of ...</td>\n",
       "      <td>copyculture</td>\n",
       "      <td>Very concerning reports about the  removal of ...</td>\n",
       "    </tr>\n",
       "    <tr>\n",
       "      <th>2</th>\n",
       "      <td>How prepared are paramedics to deal with clima...</td>\n",
       "      <td>RuthTownsendlaw</td>\n",
       "      <td>How prepared are paramedics to deal with clima...</td>\n",
       "    </tr>\n",
       "    <tr>\n",
       "      <th>3</th>\n",
       "      <td>@ChrisJ999 paramedic building, Charles Sturt U...</td>\n",
       "      <td>RuthTownsendlaw</td>\n",
       "      <td>ChrisJ paramedic building Charles Sturt Univer...</td>\n",
       "    </tr>\n",
       "    <tr>\n",
       "      <th>4</th>\n",
       "      <td>Macquarie University announces scholarships wo...</td>\n",
       "      <td>indiaedudiary</td>\n",
       "      <td>Macquarie University announces scholarships wo...</td>\n",
       "    </tr>\n",
       "  </tbody>\n",
       "</table>\n",
       "</div>"
      ],
      "text/plain": [
       "                                               tweet         username  \\\n",
       "0  Please sign and share this important petition:...        roblespar   \n",
       "1  Very concerning reports about the  removal of ...      copyculture   \n",
       "2  How prepared are paramedics to deal with clima...  RuthTownsendlaw   \n",
       "3  @ChrisJ999 paramedic building, Charles Sturt U...  RuthTownsendlaw   \n",
       "4  Macquarie University announces scholarships wo...    indiaedudiary   \n",
       "\n",
       "                                        Clean Tweets  \n",
       "0  Please sign and share this important petition ...  \n",
       "1  Very concerning reports about the  removal of ...  \n",
       "2  How prepared are paramedics to deal with clima...  \n",
       "3  ChrisJ paramedic building Charles Sturt Univer...  \n",
       "4  Macquarie University announces scholarships wo...  "
      ]
     },
     "execution_count": 17,
     "metadata": {},
     "output_type": "execute_result"
    }
   ],
   "source": [
    "MQDF.head()"
   ]
  },
  {
   "cell_type": "code",
   "execution_count": 18,
   "metadata": {},
   "outputs": [
    {
     "data": {
      "text/html": [
       "<div>\n",
       "<style scoped>\n",
       "    .dataframe tbody tr th:only-of-type {\n",
       "        vertical-align: middle;\n",
       "    }\n",
       "\n",
       "    .dataframe tbody tr th {\n",
       "        vertical-align: top;\n",
       "    }\n",
       "\n",
       "    .dataframe thead th {\n",
       "        text-align: right;\n",
       "    }\n",
       "</style>\n",
       "<table border=\"1\" class=\"dataframe\">\n",
       "  <thead>\n",
       "    <tr style=\"text-align: right;\">\n",
       "      <th></th>\n",
       "      <th>tweet</th>\n",
       "      <th>username</th>\n",
       "      <th>Clean Tweets</th>\n",
       "    </tr>\n",
       "  </thead>\n",
       "  <tbody>\n",
       "    <tr>\n",
       "      <th>0</th>\n",
       "      <td>“Make friends of all ages. When you have frien...</td>\n",
       "      <td>UNSW</td>\n",
       "      <td>“Make friends of all ages When you have friend...</td>\n",
       "    </tr>\n",
       "    <tr>\n",
       "      <th>1</th>\n",
       "      <td>“In Australia, 30% of employers admit they’re ...</td>\n",
       "      <td>UNSW</td>\n",
       "      <td>“In Australia  of employers admit they’re relu...</td>\n",
       "    </tr>\n",
       "    <tr>\n",
       "      <th>2</th>\n",
       "      <td>\"Older is not lesser - the value of a human be...</td>\n",
       "      <td>BetterSydney</td>\n",
       "      <td>Older is not lesser  the value of a human bein...</td>\n",
       "    </tr>\n",
       "    <tr>\n",
       "      <th>3</th>\n",
       "      <td>“Age is a criterion for diversity.”\\n\\nAshton ...</td>\n",
       "      <td>UNSW</td>\n",
       "      <td>“Age is a criterion for diversity”\\n\\nAshton A...</td>\n",
       "    </tr>\n",
       "    <tr>\n",
       "      <th>4</th>\n",
       "      <td>@chappell_louise @_annahush @Janbreck @UNSW_GV...</td>\n",
       "      <td>katrinaellen_zm</td>\n",
       "      <td>chappelllouise annahush Janbreck UNSWGVRN Than...</td>\n",
       "    </tr>\n",
       "  </tbody>\n",
       "</table>\n",
       "</div>"
      ],
      "text/plain": [
       "                                               tweet         username  \\\n",
       "0  “Make friends of all ages. When you have frien...             UNSW   \n",
       "1  “In Australia, 30% of employers admit they’re ...             UNSW   \n",
       "2  \"Older is not lesser - the value of a human be...     BetterSydney   \n",
       "3  “Age is a criterion for diversity.”\\n\\nAshton ...             UNSW   \n",
       "4  @chappell_louise @_annahush @Janbreck @UNSW_GV...  katrinaellen_zm   \n",
       "\n",
       "                                        Clean Tweets  \n",
       "0  “Make friends of all ages When you have friend...  \n",
       "1  “In Australia  of employers admit they’re relu...  \n",
       "2  Older is not lesser  the value of a human bein...  \n",
       "3  “Age is a criterion for diversity”\\n\\nAshton A...  \n",
       "4  chappelllouise annahush Janbreck UNSWGVRN Than...  "
      ]
     },
     "execution_count": 18,
     "metadata": {},
     "output_type": "execute_result"
    }
   ],
   "source": [
    "UNSWDF.head()"
   ]
  },
  {
   "cell_type": "code",
   "execution_count": 19,
   "metadata": {},
   "outputs": [
    {
     "data": {
      "text/html": [
       "<div>\n",
       "<style scoped>\n",
       "    .dataframe tbody tr th:only-of-type {\n",
       "        vertical-align: middle;\n",
       "    }\n",
       "\n",
       "    .dataframe tbody tr th {\n",
       "        vertical-align: top;\n",
       "    }\n",
       "\n",
       "    .dataframe thead th {\n",
       "        text-align: right;\n",
       "    }\n",
       "</style>\n",
       "<table border=\"1\" class=\"dataframe\">\n",
       "  <thead>\n",
       "    <tr style=\"text-align: right;\">\n",
       "      <th></th>\n",
       "      <th>tweet</th>\n",
       "      <th>username</th>\n",
       "      <th>Clean Tweets</th>\n",
       "    </tr>\n",
       "  </thead>\n",
       "  <tbody>\n",
       "    <tr>\n",
       "      <th>0</th>\n",
       "      <td>USYD will also conduct a variety of dating act...</td>\n",
       "      <td>usyd_oweek</td>\n",
       "      <td>USYD will also conduct a variety of dating act...</td>\n",
       "    </tr>\n",
       "    <tr>\n",
       "      <th>1</th>\n",
       "      <td>@aptly_engineerd \"The idea of bringing the eve...</td>\n",
       "      <td>JusDucky27</td>\n",
       "      <td>aptlyengineerd The idea of bringing the evergr...</td>\n",
       "    </tr>\n",
       "    <tr>\n",
       "      <th>2</th>\n",
       "      <td>The University of Sydney's Westmead Applied Re...</td>\n",
       "      <td>AIHealth1</td>\n",
       "      <td>The University of Sydneys Westmead Applied Res...</td>\n",
       "    </tr>\n",
       "    <tr>\n",
       "      <th>3</th>\n",
       "      <td>\"The University of Sydney is perhaps Australia...</td>\n",
       "      <td>TDugdak</td>\n",
       "      <td>The University of Sydney is perhaps Australia’...</td>\n",
       "    </tr>\n",
       "    <tr>\n",
       "      <th>4</th>\n",
       "      <td>Martin Raffaele in using a combination of the ...</td>\n",
       "      <td>MartinRaffaele4</td>\n",
       "      <td>Martin Raffaele in using a combination of the ...</td>\n",
       "    </tr>\n",
       "  </tbody>\n",
       "</table>\n",
       "</div>"
      ],
      "text/plain": [
       "                                               tweet         username  \\\n",
       "0  USYD will also conduct a variety of dating act...       usyd_oweek   \n",
       "1  @aptly_engineerd \"The idea of bringing the eve...       JusDucky27   \n",
       "2  The University of Sydney's Westmead Applied Re...        AIHealth1   \n",
       "3  \"The University of Sydney is perhaps Australia...          TDugdak   \n",
       "4  Martin Raffaele in using a combination of the ...  MartinRaffaele4   \n",
       "\n",
       "                                        Clean Tweets  \n",
       "0  USYD will also conduct a variety of dating act...  \n",
       "1  aptlyengineerd The idea of bringing the evergr...  \n",
       "2  The University of Sydneys Westmead Applied Res...  \n",
       "3  The University of Sydney is perhaps Australia’...  \n",
       "4  Martin Raffaele in using a combination of the ...  "
      ]
     },
     "execution_count": 19,
     "metadata": {},
     "output_type": "execute_result"
    }
   ],
   "source": [
    "USYDDF.head()"
   ]
  },
  {
   "cell_type": "code",
   "execution_count": 20,
   "metadata": {},
   "outputs": [],
   "source": [
    "#MQDF.to_csv(r'C:\\Users\\Paul\\App-Data\\MQ_raw.csv')\n",
    "#UNSWDF.to_csv(r'C:\\Users\\Paul\\App-Data\\UNSW_raw.csv')\n",
    "#USYDDF.to_csv(r'C:\\Users\\Paul\\App-Data\\USYD_raw.csv')"
   ]
  },
  {
   "cell_type": "code",
   "execution_count": null,
   "metadata": {},
   "outputs": [],
   "source": []
  },
  {
   "cell_type": "code",
   "execution_count": null,
   "metadata": {},
   "outputs": [],
   "source": []
  }
 ],
 "metadata": {
  "kernelspec": {
   "display_name": "Python 3",
   "language": "python",
   "name": "python3"
  },
  "language_info": {
   "codemirror_mode": {
    "name": "ipython",
    "version": 3
   },
   "file_extension": ".py",
   "mimetype": "text/x-python",
   "name": "python",
   "nbconvert_exporter": "python",
   "pygments_lexer": "ipython3",
   "version": "3.7.3"
  }
 },
 "nbformat": 4,
 "nbformat_minor": 2
}
